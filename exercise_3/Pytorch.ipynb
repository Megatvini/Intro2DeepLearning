{
 "cells": [
  {
   "cell_type": "code",
   "execution_count": 1,
   "metadata": {},
   "outputs": [],
   "source": [
    "import torch"
   ]
  },
  {
   "cell_type": "code",
   "execution_count": 53,
   "metadata": {},
   "outputs": [],
   "source": [
    "a = torch.rand(10, 4)"
   ]
  },
  {
   "cell_type": "code",
   "execution_count": 62,
   "metadata": {},
   "outputs": [
    {
     "data": {
      "text/plain": [
       "tensor([[0.7773, 0.5940, 0.9349, 0.4357],\n",
       "        [0.5672, 0.0228, 0.0869, 0.3452],\n",
       "        [0.2037, 0.0650, 0.2543, 0.3110],\n",
       "        [0.6179, 0.5152, 0.8811, 0.8390],\n",
       "        [0.4615, 0.1133, 0.9731, 0.5646],\n",
       "        [0.3793, 0.7830, 0.5063, 0.4437],\n",
       "        [0.5272, 0.6249, 0.5432, 0.4227],\n",
       "        [0.9699, 0.0013, 0.2077, 0.9569],\n",
       "        [0.9408, 0.7699, 0.3996, 0.2552],\n",
       "        [0.9871, 0.2257, 0.3354, 0.7698]])"
      ]
     },
     "execution_count": 62,
     "metadata": {},
     "output_type": "execute_result"
    }
   ],
   "source": []
  }
 ],
 "metadata": {
  "kernelspec": {
   "display_name": "Python 3",
   "language": "python",
   "name": "python3"
  },
  "language_info": {
   "codemirror_mode": {
    "name": "ipython",
    "version": 3
   },
   "file_extension": ".py",
   "mimetype": "text/x-python",
   "name": "python",
   "nbconvert_exporter": "python",
   "pygments_lexer": "ipython3",
   "version": "3.6.7"
  }
 },
 "nbformat": 4,
 "nbformat_minor": 2
}
